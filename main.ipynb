{
 "cells": [
  {
   "cell_type": "markdown",
   "id": "50b2d075",
   "metadata": {},
   "source": [
    "# H&M Personalized Fashion Recommendations"
   ]
  },
  {
   "cell_type": "markdown",
   "id": "9f513a8c",
   "metadata": {},
   "source": [
    "First we import all the required external libraries."
   ]
  },
  {
   "cell_type": "code",
   "execution_count": 1,
   "id": "c36a5420",
   "metadata": {},
   "outputs": [],
   "source": [
    "import pandas as pd\n",
    "import matplotlib.pyplot as plt"
   ]
  },
  {
   "cell_type": "markdown",
   "id": "3aa2f3e1",
   "metadata": {},
   "source": [
    "## Exploratory Data Analysis (EDA)"
   ]
  },
  {
   "cell_type": "markdown",
   "id": "256dd58f",
   "metadata": {},
   "source": [
    "We first start by analisys all the data that we have available for this project. We start by reading all the data from the provided datasets."
   ]
  },
  {
   "cell_type": "code",
   "execution_count": 2,
   "id": "d564a28f",
   "metadata": {},
   "outputs": [],
   "source": [
    "articles = pd.read_csv('articles.csv')\n",
    "customers = pd.read_csv('customers.csv')\n",
    "transaction_train = pd.read_csv('transactions_train.csv')\n",
    "sample_submission = pd.read_csv('sample_submission.csv')"
   ]
  },
  {
   "cell_type": "markdown",
   "id": "0f0cba00",
   "metadata": {},
   "source": [
    "Out of those, we have three datasets to analyse and use for the recognition system:\n",
    "- Articles: clothing products information\n",
    "- Customers: details about single customers\n",
    "- Transactions: relate the customers with the articles bought"
   ]
  },
  {
   "cell_type": "markdown",
   "id": "27471883",
   "metadata": {},
   "source": [
    "### Articles"
   ]
  },
  {
   "cell_type": "markdown",
   "id": "02cc70bb",
   "metadata": {},
   "source": [
    "To study the content of the dataset, a good approach is to display the values of the first articles in the dataset."
   ]
  },
  {
   "cell_type": "code",
   "execution_count": 3,
   "id": "5fbe93b2",
   "metadata": {
    "scrolled": true
   },
   "outputs": [
    {
     "data": {
      "text/html": [
       "<div>\n",
       "<style scoped>\n",
       "    .dataframe tbody tr th:only-of-type {\n",
       "        vertical-align: middle;\n",
       "    }\n",
       "\n",
       "    .dataframe tbody tr th {\n",
       "        vertical-align: top;\n",
       "    }\n",
       "\n",
       "    .dataframe thead th {\n",
       "        text-align: right;\n",
       "    }\n",
       "</style>\n",
       "<table border=\"1\" class=\"dataframe\">\n",
       "  <thead>\n",
       "    <tr style=\"text-align: right;\">\n",
       "      <th></th>\n",
       "      <th>article_id</th>\n",
       "      <th>product_code</th>\n",
       "      <th>prod_name</th>\n",
       "      <th>product_type_no</th>\n",
       "      <th>product_type_name</th>\n",
       "      <th>product_group_name</th>\n",
       "      <th>graphical_appearance_no</th>\n",
       "      <th>graphical_appearance_name</th>\n",
       "      <th>colour_group_code</th>\n",
       "      <th>colour_group_name</th>\n",
       "      <th>...</th>\n",
       "      <th>department_name</th>\n",
       "      <th>index_code</th>\n",
       "      <th>index_name</th>\n",
       "      <th>index_group_no</th>\n",
       "      <th>index_group_name</th>\n",
       "      <th>section_no</th>\n",
       "      <th>section_name</th>\n",
       "      <th>garment_group_no</th>\n",
       "      <th>garment_group_name</th>\n",
       "      <th>detail_desc</th>\n",
       "    </tr>\n",
       "  </thead>\n",
       "  <tbody>\n",
       "    <tr>\n",
       "      <th>0</th>\n",
       "      <td>108775015</td>\n",
       "      <td>108775</td>\n",
       "      <td>Strap top</td>\n",
       "      <td>253</td>\n",
       "      <td>Vest top</td>\n",
       "      <td>Garment Upper body</td>\n",
       "      <td>1010016</td>\n",
       "      <td>Solid</td>\n",
       "      <td>9</td>\n",
       "      <td>Black</td>\n",
       "      <td>...</td>\n",
       "      <td>Jersey Basic</td>\n",
       "      <td>A</td>\n",
       "      <td>Ladieswear</td>\n",
       "      <td>1</td>\n",
       "      <td>Ladieswear</td>\n",
       "      <td>16</td>\n",
       "      <td>Womens Everyday Basics</td>\n",
       "      <td>1002</td>\n",
       "      <td>Jersey Basic</td>\n",
       "      <td>Jersey top with narrow shoulder straps.</td>\n",
       "    </tr>\n",
       "    <tr>\n",
       "      <th>1</th>\n",
       "      <td>108775044</td>\n",
       "      <td>108775</td>\n",
       "      <td>Strap top</td>\n",
       "      <td>253</td>\n",
       "      <td>Vest top</td>\n",
       "      <td>Garment Upper body</td>\n",
       "      <td>1010016</td>\n",
       "      <td>Solid</td>\n",
       "      <td>10</td>\n",
       "      <td>White</td>\n",
       "      <td>...</td>\n",
       "      <td>Jersey Basic</td>\n",
       "      <td>A</td>\n",
       "      <td>Ladieswear</td>\n",
       "      <td>1</td>\n",
       "      <td>Ladieswear</td>\n",
       "      <td>16</td>\n",
       "      <td>Womens Everyday Basics</td>\n",
       "      <td>1002</td>\n",
       "      <td>Jersey Basic</td>\n",
       "      <td>Jersey top with narrow shoulder straps.</td>\n",
       "    </tr>\n",
       "    <tr>\n",
       "      <th>2</th>\n",
       "      <td>108775051</td>\n",
       "      <td>108775</td>\n",
       "      <td>Strap top (1)</td>\n",
       "      <td>253</td>\n",
       "      <td>Vest top</td>\n",
       "      <td>Garment Upper body</td>\n",
       "      <td>1010017</td>\n",
       "      <td>Stripe</td>\n",
       "      <td>11</td>\n",
       "      <td>Off White</td>\n",
       "      <td>...</td>\n",
       "      <td>Jersey Basic</td>\n",
       "      <td>A</td>\n",
       "      <td>Ladieswear</td>\n",
       "      <td>1</td>\n",
       "      <td>Ladieswear</td>\n",
       "      <td>16</td>\n",
       "      <td>Womens Everyday Basics</td>\n",
       "      <td>1002</td>\n",
       "      <td>Jersey Basic</td>\n",
       "      <td>Jersey top with narrow shoulder straps.</td>\n",
       "    </tr>\n",
       "    <tr>\n",
       "      <th>3</th>\n",
       "      <td>110065001</td>\n",
       "      <td>110065</td>\n",
       "      <td>OP T-shirt (Idro)</td>\n",
       "      <td>306</td>\n",
       "      <td>Bra</td>\n",
       "      <td>Underwear</td>\n",
       "      <td>1010016</td>\n",
       "      <td>Solid</td>\n",
       "      <td>9</td>\n",
       "      <td>Black</td>\n",
       "      <td>...</td>\n",
       "      <td>Clean Lingerie</td>\n",
       "      <td>B</td>\n",
       "      <td>Lingeries/Tights</td>\n",
       "      <td>1</td>\n",
       "      <td>Ladieswear</td>\n",
       "      <td>61</td>\n",
       "      <td>Womens Lingerie</td>\n",
       "      <td>1017</td>\n",
       "      <td>Under-, Nightwear</td>\n",
       "      <td>Microfibre T-shirt bra with underwired, moulde...</td>\n",
       "    </tr>\n",
       "    <tr>\n",
       "      <th>4</th>\n",
       "      <td>110065002</td>\n",
       "      <td>110065</td>\n",
       "      <td>OP T-shirt (Idro)</td>\n",
       "      <td>306</td>\n",
       "      <td>Bra</td>\n",
       "      <td>Underwear</td>\n",
       "      <td>1010016</td>\n",
       "      <td>Solid</td>\n",
       "      <td>10</td>\n",
       "      <td>White</td>\n",
       "      <td>...</td>\n",
       "      <td>Clean Lingerie</td>\n",
       "      <td>B</td>\n",
       "      <td>Lingeries/Tights</td>\n",
       "      <td>1</td>\n",
       "      <td>Ladieswear</td>\n",
       "      <td>61</td>\n",
       "      <td>Womens Lingerie</td>\n",
       "      <td>1017</td>\n",
       "      <td>Under-, Nightwear</td>\n",
       "      <td>Microfibre T-shirt bra with underwired, moulde...</td>\n",
       "    </tr>\n",
       "  </tbody>\n",
       "</table>\n",
       "<p>5 rows × 25 columns</p>\n",
       "</div>"
      ],
      "text/plain": [
       "   article_id  product_code          prod_name  product_type_no  \\\n",
       "0   108775015        108775          Strap top              253   \n",
       "1   108775044        108775          Strap top              253   \n",
       "2   108775051        108775      Strap top (1)              253   \n",
       "3   110065001        110065  OP T-shirt (Idro)              306   \n",
       "4   110065002        110065  OP T-shirt (Idro)              306   \n",
       "\n",
       "  product_type_name  product_group_name  graphical_appearance_no  \\\n",
       "0          Vest top  Garment Upper body                  1010016   \n",
       "1          Vest top  Garment Upper body                  1010016   \n",
       "2          Vest top  Garment Upper body                  1010017   \n",
       "3               Bra           Underwear                  1010016   \n",
       "4               Bra           Underwear                  1010016   \n",
       "\n",
       "  graphical_appearance_name  colour_group_code colour_group_name  ...  \\\n",
       "0                     Solid                  9             Black  ...   \n",
       "1                     Solid                 10             White  ...   \n",
       "2                    Stripe                 11         Off White  ...   \n",
       "3                     Solid                  9             Black  ...   \n",
       "4                     Solid                 10             White  ...   \n",
       "\n",
       "   department_name index_code        index_name index_group_no  \\\n",
       "0     Jersey Basic          A        Ladieswear              1   \n",
       "1     Jersey Basic          A        Ladieswear              1   \n",
       "2     Jersey Basic          A        Ladieswear              1   \n",
       "3   Clean Lingerie          B  Lingeries/Tights              1   \n",
       "4   Clean Lingerie          B  Lingeries/Tights              1   \n",
       "\n",
       "   index_group_name section_no            section_name garment_group_no  \\\n",
       "0        Ladieswear         16  Womens Everyday Basics             1002   \n",
       "1        Ladieswear         16  Womens Everyday Basics             1002   \n",
       "2        Ladieswear         16  Womens Everyday Basics             1002   \n",
       "3        Ladieswear         61         Womens Lingerie             1017   \n",
       "4        Ladieswear         61         Womens Lingerie             1017   \n",
       "\n",
       "   garment_group_name                                        detail_desc  \n",
       "0        Jersey Basic            Jersey top with narrow shoulder straps.  \n",
       "1        Jersey Basic            Jersey top with narrow shoulder straps.  \n",
       "2        Jersey Basic            Jersey top with narrow shoulder straps.  \n",
       "3   Under-, Nightwear  Microfibre T-shirt bra with underwired, moulde...  \n",
       "4   Under-, Nightwear  Microfibre T-shirt bra with underwired, moulde...  \n",
       "\n",
       "[5 rows x 25 columns]"
      ]
     },
     "execution_count": 3,
     "metadata": {},
     "output_type": "execute_result"
    }
   ],
   "source": [
    "articles.head()"
   ]
  },
  {
   "cell_type": "markdown",
   "id": "98db1846",
   "metadata": {},
   "source": [
    "We can see there that most of the values are categorical data (no numerical), which means that we are going to need to analyse the data and find a way to match the values.\n",
    "\n",
    "Apart from categorical data, there is another thing to be mindful of: missing data.\n",
    "\n",
    "We have to start with the missing data in order to be able to later fill those categorical values if we filled some values without numerical values.\n",
    "\n",
    "#### Feature Selection"
   ]
  },
  {
   "cell_type": "code",
   "execution_count": 4,
   "id": "4edb2dbf",
   "metadata": {},
   "outputs": [],
   "source": [
    "# TODO: Reason all the feature selection"
   ]
  },
  {
   "cell_type": "markdown",
   "id": "2ef8c1dd",
   "metadata": {},
   "source": [
    "Now we can drop columns that are not relevant for the purpose of this recommendation system.\n",
    "\n",
    "Since we have three different datasets that can be merged (transactions relate customers with articles) we will be needing the article_id. Also, this data will be useful to link later the recommendations with some images.\n",
    "\n",
    "We will not be needing graphical_appearance_no, graphical_appearance_name, perceived_colour_value_id, garment_group_no, garment_group_name and detail_desc.\n",
    "\n",
    "Since product_code, product_type_no and product_type_name seem to match in products groups, so we can keep only product_code. Same happens with colour_group_code and colour_group_name, so we will keep colour_group_code. And with department_no and department_name, so we will keep a_department_no. Same again for index_code, index_name and index_group_no, from which we will be keeping index_code. And lastly, from section_no and section_name, we will keep section_no."
   ]
  },
  {
   "cell_type": "code",
   "execution_count": 5,
   "id": "0d871f73",
   "metadata": {
    "scrolled": true
   },
   "outputs": [
    {
     "data": {
      "text/html": [
       "<div>\n",
       "<style scoped>\n",
       "    .dataframe tbody tr th:only-of-type {\n",
       "        vertical-align: middle;\n",
       "    }\n",
       "\n",
       "    .dataframe tbody tr th {\n",
       "        vertical-align: top;\n",
       "    }\n",
       "\n",
       "    .dataframe thead th {\n",
       "        text-align: right;\n",
       "    }\n",
       "</style>\n",
       "<table border=\"1\" class=\"dataframe\">\n",
       "  <thead>\n",
       "    <tr style=\"text-align: right;\">\n",
       "      <th></th>\n",
       "      <th>article_id</th>\n",
       "      <th>product_code</th>\n",
       "      <th>colour_group_code</th>\n",
       "      <th>department_no</th>\n",
       "      <th>index_group_no</th>\n",
       "      <th>section_no</th>\n",
       "    </tr>\n",
       "  </thead>\n",
       "  <tbody>\n",
       "    <tr>\n",
       "      <th>0</th>\n",
       "      <td>108775015</td>\n",
       "      <td>108775</td>\n",
       "      <td>9</td>\n",
       "      <td>1676</td>\n",
       "      <td>1</td>\n",
       "      <td>16</td>\n",
       "    </tr>\n",
       "    <tr>\n",
       "      <th>1</th>\n",
       "      <td>108775044</td>\n",
       "      <td>108775</td>\n",
       "      <td>10</td>\n",
       "      <td>1676</td>\n",
       "      <td>1</td>\n",
       "      <td>16</td>\n",
       "    </tr>\n",
       "    <tr>\n",
       "      <th>2</th>\n",
       "      <td>108775051</td>\n",
       "      <td>108775</td>\n",
       "      <td>11</td>\n",
       "      <td>1676</td>\n",
       "      <td>1</td>\n",
       "      <td>16</td>\n",
       "    </tr>\n",
       "    <tr>\n",
       "      <th>3</th>\n",
       "      <td>110065001</td>\n",
       "      <td>110065</td>\n",
       "      <td>9</td>\n",
       "      <td>1339</td>\n",
       "      <td>1</td>\n",
       "      <td>61</td>\n",
       "    </tr>\n",
       "    <tr>\n",
       "      <th>4</th>\n",
       "      <td>110065002</td>\n",
       "      <td>110065</td>\n",
       "      <td>10</td>\n",
       "      <td>1339</td>\n",
       "      <td>1</td>\n",
       "      <td>61</td>\n",
       "    </tr>\n",
       "  </tbody>\n",
       "</table>\n",
       "</div>"
      ],
      "text/plain": [
       "   article_id  product_code  colour_group_code  department_no  index_group_no  \\\n",
       "0   108775015        108775                  9           1676               1   \n",
       "1   108775044        108775                 10           1676               1   \n",
       "2   108775051        108775                 11           1676               1   \n",
       "3   110065001        110065                  9           1339               1   \n",
       "4   110065002        110065                 10           1339               1   \n",
       "\n",
       "   section_no  \n",
       "0          16  \n",
       "1          16  \n",
       "2          16  \n",
       "3          61  \n",
       "4          61  "
      ]
     },
     "execution_count": 5,
     "metadata": {},
     "output_type": "execute_result"
    }
   ],
   "source": [
    "cleaned_articles = articles[['article_id','product_code','colour_group_code','department_no','index_group_no','section_no']]\n",
    "cleaned_articles.head()"
   ]
  },
  {
   "cell_type": "markdown",
   "id": "a1638761",
   "metadata": {},
   "source": [
    "#### Missing Data\n",
    "\n",
    "After selecting the features we will continue with the missing data in order to be able to later fill those categorical values if we filled some values without numerical values. \n",
    "\n",
    "We can see the number of missing(\"null\") values for each column:"
   ]
  },
  {
   "cell_type": "code",
   "execution_count": 6,
   "id": "81244db2",
   "metadata": {},
   "outputs": [
    {
     "data": {
      "text/plain": [
       "article_id           0\n",
       "product_code         0\n",
       "colour_group_code    0\n",
       "department_no        0\n",
       "index_group_no       0\n",
       "section_no           0\n",
       "dtype: int64"
      ]
     },
     "execution_count": 6,
     "metadata": {},
     "output_type": "execute_result"
    }
   ],
   "source": [
    "cleaned_articles.isnull().sum()"
   ]
  },
  {
   "cell_type": "markdown",
   "id": "f2f7ef86",
   "metadata": {},
   "source": [
    "After the feature selection we don't have any missing data."
   ]
  },
  {
   "cell_type": "markdown",
   "id": "dd9ad537",
   "metadata": {},
   "source": [
    "#### Categorical Data"
   ]
  },
  {
   "cell_type": "markdown",
   "id": "e00e0c92",
   "metadata": {},
   "source": [
    "With our current features, we don't need to analyse any categorical data since all values are numerical."
   ]
  },
  {
   "cell_type": "markdown",
   "id": "df383a02",
   "metadata": {},
   "source": [
    "### Customers"
   ]
  },
  {
   "cell_type": "markdown",
   "id": "d99baa34",
   "metadata": {},
   "source": [
    "Let's start with the same approach than when processing the articles database, by displaying and analysing the first entries of the dataset."
   ]
  },
  {
   "cell_type": "code",
   "execution_count": 7,
   "id": "7bfd6c37",
   "metadata": {
    "scrolled": false
   },
   "outputs": [
    {
     "data": {
      "text/html": [
       "<div>\n",
       "<style scoped>\n",
       "    .dataframe tbody tr th:only-of-type {\n",
       "        vertical-align: middle;\n",
       "    }\n",
       "\n",
       "    .dataframe tbody tr th {\n",
       "        vertical-align: top;\n",
       "    }\n",
       "\n",
       "    .dataframe thead th {\n",
       "        text-align: right;\n",
       "    }\n",
       "</style>\n",
       "<table border=\"1\" class=\"dataframe\">\n",
       "  <thead>\n",
       "    <tr style=\"text-align: right;\">\n",
       "      <th></th>\n",
       "      <th>customer_id</th>\n",
       "      <th>FN</th>\n",
       "      <th>Active</th>\n",
       "      <th>club_member_status</th>\n",
       "      <th>fashion_news_frequency</th>\n",
       "      <th>age</th>\n",
       "      <th>postal_code</th>\n",
       "    </tr>\n",
       "  </thead>\n",
       "  <tbody>\n",
       "    <tr>\n",
       "      <th>0</th>\n",
       "      <td>00000dbacae5abe5e23885899a1fa44253a17956c6d1c3...</td>\n",
       "      <td>NaN</td>\n",
       "      <td>NaN</td>\n",
       "      <td>ACTIVE</td>\n",
       "      <td>NONE</td>\n",
       "      <td>49.0</td>\n",
       "      <td>52043ee2162cf5aa7ee79974281641c6f11a68d276429a...</td>\n",
       "    </tr>\n",
       "    <tr>\n",
       "      <th>1</th>\n",
       "      <td>0000423b00ade91418cceaf3b26c6af3dd342b51fd051e...</td>\n",
       "      <td>NaN</td>\n",
       "      <td>NaN</td>\n",
       "      <td>ACTIVE</td>\n",
       "      <td>NONE</td>\n",
       "      <td>25.0</td>\n",
       "      <td>2973abc54daa8a5f8ccfe9362140c63247c5eee03f1d93...</td>\n",
       "    </tr>\n",
       "    <tr>\n",
       "      <th>2</th>\n",
       "      <td>000058a12d5b43e67d225668fa1f8d618c13dc232df0ca...</td>\n",
       "      <td>NaN</td>\n",
       "      <td>NaN</td>\n",
       "      <td>ACTIVE</td>\n",
       "      <td>NONE</td>\n",
       "      <td>24.0</td>\n",
       "      <td>64f17e6a330a85798e4998f62d0930d14db8db1c054af6...</td>\n",
       "    </tr>\n",
       "    <tr>\n",
       "      <th>3</th>\n",
       "      <td>00005ca1c9ed5f5146b52ac8639a40ca9d57aeff4d1bd2...</td>\n",
       "      <td>NaN</td>\n",
       "      <td>NaN</td>\n",
       "      <td>ACTIVE</td>\n",
       "      <td>NONE</td>\n",
       "      <td>54.0</td>\n",
       "      <td>5d36574f52495e81f019b680c843c443bd343d5ca5b1c2...</td>\n",
       "    </tr>\n",
       "    <tr>\n",
       "      <th>4</th>\n",
       "      <td>00006413d8573cd20ed7128e53b7b13819fe5cfc2d801f...</td>\n",
       "      <td>1.0</td>\n",
       "      <td>1.0</td>\n",
       "      <td>ACTIVE</td>\n",
       "      <td>Regularly</td>\n",
       "      <td>52.0</td>\n",
       "      <td>25fa5ddee9aac01b35208d01736e57942317d756b32ddd...</td>\n",
       "    </tr>\n",
       "  </tbody>\n",
       "</table>\n",
       "</div>"
      ],
      "text/plain": [
       "                                         customer_id   FN  Active  \\\n",
       "0  00000dbacae5abe5e23885899a1fa44253a17956c6d1c3...  NaN     NaN   \n",
       "1  0000423b00ade91418cceaf3b26c6af3dd342b51fd051e...  NaN     NaN   \n",
       "2  000058a12d5b43e67d225668fa1f8d618c13dc232df0ca...  NaN     NaN   \n",
       "3  00005ca1c9ed5f5146b52ac8639a40ca9d57aeff4d1bd2...  NaN     NaN   \n",
       "4  00006413d8573cd20ed7128e53b7b13819fe5cfc2d801f...  1.0     1.0   \n",
       "\n",
       "  club_member_status fashion_news_frequency   age  \\\n",
       "0             ACTIVE                   NONE  49.0   \n",
       "1             ACTIVE                   NONE  25.0   \n",
       "2             ACTIVE                   NONE  24.0   \n",
       "3             ACTIVE                   NONE  54.0   \n",
       "4             ACTIVE              Regularly  52.0   \n",
       "\n",
       "                                         postal_code  \n",
       "0  52043ee2162cf5aa7ee79974281641c6f11a68d276429a...  \n",
       "1  2973abc54daa8a5f8ccfe9362140c63247c5eee03f1d93...  \n",
       "2  64f17e6a330a85798e4998f62d0930d14db8db1c054af6...  \n",
       "3  5d36574f52495e81f019b680c843c443bd343d5ca5b1c2...  \n",
       "4  25fa5ddee9aac01b35208d01736e57942317d756b32ddd...  "
      ]
     },
     "execution_count": 7,
     "metadata": {},
     "output_type": "execute_result"
    }
   ],
   "source": [
    "customers.head()"
   ]
  },
  {
   "cell_type": "markdown",
   "id": "2f315113",
   "metadata": {},
   "source": [
    "We can see there that, as for the articles dataset, most of the values are categorical data (no numerical), which means that we are going to need to analyse the data and find a way to match the values.\n",
    "\n",
    "#### Feature Selection"
   ]
  },
  {
   "cell_type": "code",
   "execution_count": 8,
   "id": "94de6e9e",
   "metadata": {},
   "outputs": [],
   "source": [
    "# TODO: Reason all the feature selection"
   ]
  },
  {
   "cell_type": "markdown",
   "id": "f6ba3dad",
   "metadata": {},
   "source": [
    "Just as we did before, let's start by dropping the columns that are not relevant for the purpose of this recommendation system.\n",
    "\n",
    "We can only keep the customer_id to merge the data and the customer's age."
   ]
  },
  {
   "cell_type": "code",
   "execution_count": 9,
   "id": "9a253d38",
   "metadata": {},
   "outputs": [
    {
     "data": {
      "text/html": [
       "<div>\n",
       "<style scoped>\n",
       "    .dataframe tbody tr th:only-of-type {\n",
       "        vertical-align: middle;\n",
       "    }\n",
       "\n",
       "    .dataframe tbody tr th {\n",
       "        vertical-align: top;\n",
       "    }\n",
       "\n",
       "    .dataframe thead th {\n",
       "        text-align: right;\n",
       "    }\n",
       "</style>\n",
       "<table border=\"1\" class=\"dataframe\">\n",
       "  <thead>\n",
       "    <tr style=\"text-align: right;\">\n",
       "      <th></th>\n",
       "      <th>customer_id</th>\n",
       "      <th>age</th>\n",
       "    </tr>\n",
       "  </thead>\n",
       "  <tbody>\n",
       "    <tr>\n",
       "      <th>0</th>\n",
       "      <td>00000dbacae5abe5e23885899a1fa44253a17956c6d1c3...</td>\n",
       "      <td>49.0</td>\n",
       "    </tr>\n",
       "    <tr>\n",
       "      <th>1</th>\n",
       "      <td>0000423b00ade91418cceaf3b26c6af3dd342b51fd051e...</td>\n",
       "      <td>25.0</td>\n",
       "    </tr>\n",
       "    <tr>\n",
       "      <th>2</th>\n",
       "      <td>000058a12d5b43e67d225668fa1f8d618c13dc232df0ca...</td>\n",
       "      <td>24.0</td>\n",
       "    </tr>\n",
       "    <tr>\n",
       "      <th>3</th>\n",
       "      <td>00005ca1c9ed5f5146b52ac8639a40ca9d57aeff4d1bd2...</td>\n",
       "      <td>54.0</td>\n",
       "    </tr>\n",
       "    <tr>\n",
       "      <th>4</th>\n",
       "      <td>00006413d8573cd20ed7128e53b7b13819fe5cfc2d801f...</td>\n",
       "      <td>52.0</td>\n",
       "    </tr>\n",
       "  </tbody>\n",
       "</table>\n",
       "</div>"
      ],
      "text/plain": [
       "                                         customer_id   age\n",
       "0  00000dbacae5abe5e23885899a1fa44253a17956c6d1c3...  49.0\n",
       "1  0000423b00ade91418cceaf3b26c6af3dd342b51fd051e...  25.0\n",
       "2  000058a12d5b43e67d225668fa1f8d618c13dc232df0ca...  24.0\n",
       "3  00005ca1c9ed5f5146b52ac8639a40ca9d57aeff4d1bd2...  54.0\n",
       "4  00006413d8573cd20ed7128e53b7b13819fe5cfc2d801f...  52.0"
      ]
     },
     "execution_count": 9,
     "metadata": {},
     "output_type": "execute_result"
    }
   ],
   "source": [
    "cleaned_customers = customers[['customer_id','age']]\n",
    "cleaned_customers.head()"
   ]
  },
  {
   "cell_type": "markdown",
   "id": "edc84a17",
   "metadata": {},
   "source": [
    "#### Missing Data\n",
    "\n",
    "We can see several values marked as \"NaN\" which means that those values are actually missing data.\n",
    "\n",
    "We can see the number of missing values (both \"null\" and \"NaN\") for each column:"
   ]
  },
  {
   "cell_type": "code",
   "execution_count": 10,
   "id": "85045ea0",
   "metadata": {},
   "outputs": [
    {
     "data": {
      "text/plain": [
       "customer_id        0\n",
       "age            15861\n",
       "dtype: int64"
      ]
     },
     "execution_count": 10,
     "metadata": {},
     "output_type": "execute_result"
    }
   ],
   "source": [
    "cleaned_customers.isnull().sum()"
   ]
  },
  {
   "cell_type": "markdown",
   "id": "be11865e",
   "metadata": {},
   "source": [
    "In this dataset we have a lot more missing values, it probably wont be worth to drop the entries with those missing values.\n",
    "\n",
    "However we only need to fill the missing data for the age feature.\n",
    "\n",
    "Looking at the number of entries:"
   ]
  },
  {
   "cell_type": "code",
   "execution_count": 11,
   "id": "7bbe06ea",
   "metadata": {},
   "outputs": [
    {
     "data": {
      "text/plain": [
       "1371980"
      ]
     },
     "execution_count": 11,
     "metadata": {},
     "output_type": "execute_result"
    }
   ],
   "source": [
    "cleaned_customers.shape[0]"
   ]
  },
  {
   "cell_type": "markdown",
   "id": "403650fe",
   "metadata": {},
   "source": [
    "We can confirm that dropping the values is not a option.\n",
    "\n",
    "Another way to solve the \"missing data\" issue is to fill the values. \n",
    "\n",
    "We can check the different values that the entries of the dataset have for the age feature and find a good substitude for those missing values."
   ]
  },
  {
   "cell_type": "code",
   "execution_count": 12,
   "id": "8b68eaaa",
   "metadata": {},
   "outputs": [
    {
     "data": {
      "text/plain": [
       "array([49., 25., 24., 54., 52., nan, 20., 32., 29., 31., 56., 75., 41.,\n",
       "       27., 30., 48., 35., 22., 40., 38., 45., 68., 55., 19., 60., 44.,\n",
       "       21., 26., 28., 53., 33., 17., 23., 51., 18., 34., 57., 47., 70.,\n",
       "       50., 63., 58., 43., 67., 72., 42., 39., 79., 71., 59., 36., 62.,\n",
       "       37., 46., 73., 64., 74., 61., 85., 69., 76., 66., 65., 82., 16.,\n",
       "       90., 80., 78., 81., 84., 77., 97., 89., 83., 98., 88., 86., 87.,\n",
       "       93., 91., 99., 96., 94., 92., 95.])"
      ]
     },
     "execution_count": 12,
     "metadata": {},
     "output_type": "execute_result"
    }
   ],
   "source": [
    "cleaned_customers['age'].unique()"
   ]
  },
  {
   "cell_type": "markdown",
   "id": "b39c1c7c",
   "metadata": {},
   "source": [
    "As we can see, the age ranges is quite large:"
   ]
  },
  {
   "cell_type": "code",
   "execution_count": 13,
   "id": "0e1cbc49",
   "metadata": {},
   "outputs": [
    {
     "data": {
      "text/plain": [
       "16.0"
      ]
     },
     "execution_count": 13,
     "metadata": {},
     "output_type": "execute_result"
    }
   ],
   "source": [
    "cleaned_customers['age'].min()"
   ]
  },
  {
   "cell_type": "code",
   "execution_count": 14,
   "id": "bfc5b9bf",
   "metadata": {},
   "outputs": [
    {
     "data": {
      "text/plain": [
       "99.0"
      ]
     },
     "execution_count": 14,
     "metadata": {},
     "output_type": "execute_result"
    }
   ],
   "source": [
    "cleaned_customers['age'].max()"
   ]
  },
  {
   "cell_type": "markdown",
   "id": "c1afd5df",
   "metadata": {},
   "source": [
    "Since the ages of the customers vary from 16 to 99, it would be a good idea to analyse other metrics from the age feature to get a better approach of what would be a good way to fill in the missing values."
   ]
  },
  {
   "cell_type": "code",
   "execution_count": 15,
   "id": "efdc8284",
   "metadata": {},
   "outputs": [
    {
     "data": {
      "text/plain": [
       "36.386964565794"
      ]
     },
     "execution_count": 15,
     "metadata": {},
     "output_type": "execute_result"
    }
   ],
   "source": [
    "cleaned_customers['age'].mean()"
   ]
  },
  {
   "cell_type": "code",
   "execution_count": 16,
   "id": "68730c13",
   "metadata": {},
   "outputs": [
    {
     "data": {
      "text/plain": [
       "0    21.0\n",
       "Name: age, dtype: float64"
      ]
     },
     "execution_count": 16,
     "metadata": {},
     "output_type": "execute_result"
    }
   ],
   "source": [
    "cleaned_customers['age'].mode()"
   ]
  },
  {
   "cell_type": "code",
   "execution_count": 17,
   "id": "fdebdd9d",
   "metadata": {},
   "outputs": [
    {
     "data": {
      "text/plain": [
       "32.0"
      ]
     },
     "execution_count": 17,
     "metadata": {},
     "output_type": "execute_result"
    }
   ],
   "source": [
    "cleaned_customers['age'].median()"
   ]
  },
  {
   "cell_type": "markdown",
   "id": "60df571e",
   "metadata": {},
   "source": [
    "Checking the mean, mode and median, there is not much difference between mean (36.386964565794) and median (32). We could fill all the remaining values with the mode (21), but being such a difference between that age and the mean, substituding the missing data with the mode might alter the results. Thus, we assumed the round up mean (36), to fill the missing data."
   ]
  },
  {
   "cell_type": "code",
   "execution_count": 18,
   "id": "68c2c53f",
   "metadata": {},
   "outputs": [
    {
     "name": "stderr",
     "output_type": "stream",
     "text": [
      "/var/folders/ds/tkmrqjj15z930_6by7dpq71r0000gn/T/ipykernel_76251/713774762.py:1: SettingWithCopyWarning: \n",
      "A value is trying to be set on a copy of a slice from a DataFrame\n",
      "\n",
      "See the caveats in the documentation: https://pandas.pydata.org/pandas-docs/stable/user_guide/indexing.html#returning-a-view-versus-a-copy\n",
      "  cleaned_customers['age'].fillna(round(cleaned_customers['age'].mean()), inplace=True)\n"
     ]
    }
   ],
   "source": [
    "cleaned_customers['age'].fillna(round(cleaned_customers['age'].mean()), inplace=True)"
   ]
  },
  {
   "cell_type": "code",
   "execution_count": 30,
   "id": "90c4ec50",
   "metadata": {},
   "outputs": [
    {
     "data": {
      "text/plain": [
       "customer_id    0\n",
       "age            0\n",
       "dtype: int64"
      ]
     },
     "execution_count": 30,
     "metadata": {},
     "output_type": "execute_result"
    }
   ],
   "source": [
    "cleaned_customers.isnull().sum()"
   ]
  },
  {
   "cell_type": "markdown",
   "id": "9078cdad",
   "metadata": {},
   "source": [
    "Now that we have finished filling all the missing data for this dataset, we have to analyse the categorical data."
   ]
  },
  {
   "cell_type": "markdown",
   "id": "5ca5cf27",
   "metadata": {},
   "source": [
    "#### Categorical Data"
   ]
  },
  {
   "cell_type": "markdown",
   "id": "e889fa4a",
   "metadata": {},
   "source": [
    "All the values for this dataset are numerical so we don't need to analyse the categorical data."
   ]
  },
  {
   "cell_type": "markdown",
   "id": "383f4b39",
   "metadata": {},
   "source": [
    "### Transactions"
   ]
  },
  {
   "cell_type": "markdown",
   "id": "b09dd2ce",
   "metadata": {},
   "source": [
    "Let's check the values of the first entries."
   ]
  },
  {
   "cell_type": "code",
   "execution_count": 20,
   "id": "375ce6b7",
   "metadata": {},
   "outputs": [
    {
     "data": {
      "text/html": [
       "<div>\n",
       "<style scoped>\n",
       "    .dataframe tbody tr th:only-of-type {\n",
       "        vertical-align: middle;\n",
       "    }\n",
       "\n",
       "    .dataframe tbody tr th {\n",
       "        vertical-align: top;\n",
       "    }\n",
       "\n",
       "    .dataframe thead th {\n",
       "        text-align: right;\n",
       "    }\n",
       "</style>\n",
       "<table border=\"1\" class=\"dataframe\">\n",
       "  <thead>\n",
       "    <tr style=\"text-align: right;\">\n",
       "      <th></th>\n",
       "      <th>t_dat</th>\n",
       "      <th>customer_id</th>\n",
       "      <th>article_id</th>\n",
       "      <th>price</th>\n",
       "      <th>sales_channel_id</th>\n",
       "    </tr>\n",
       "  </thead>\n",
       "  <tbody>\n",
       "    <tr>\n",
       "      <th>0</th>\n",
       "      <td>2018-09-20</td>\n",
       "      <td>000058a12d5b43e67d225668fa1f8d618c13dc232df0ca...</td>\n",
       "      <td>663713001</td>\n",
       "      <td>0.050831</td>\n",
       "      <td>2</td>\n",
       "    </tr>\n",
       "    <tr>\n",
       "      <th>1</th>\n",
       "      <td>2018-09-20</td>\n",
       "      <td>000058a12d5b43e67d225668fa1f8d618c13dc232df0ca...</td>\n",
       "      <td>541518023</td>\n",
       "      <td>0.030492</td>\n",
       "      <td>2</td>\n",
       "    </tr>\n",
       "    <tr>\n",
       "      <th>2</th>\n",
       "      <td>2018-09-20</td>\n",
       "      <td>00007d2de826758b65a93dd24ce629ed66842531df6699...</td>\n",
       "      <td>505221004</td>\n",
       "      <td>0.015237</td>\n",
       "      <td>2</td>\n",
       "    </tr>\n",
       "    <tr>\n",
       "      <th>3</th>\n",
       "      <td>2018-09-20</td>\n",
       "      <td>00007d2de826758b65a93dd24ce629ed66842531df6699...</td>\n",
       "      <td>685687003</td>\n",
       "      <td>0.016932</td>\n",
       "      <td>2</td>\n",
       "    </tr>\n",
       "    <tr>\n",
       "      <th>4</th>\n",
       "      <td>2018-09-20</td>\n",
       "      <td>00007d2de826758b65a93dd24ce629ed66842531df6699...</td>\n",
       "      <td>685687004</td>\n",
       "      <td>0.016932</td>\n",
       "      <td>2</td>\n",
       "    </tr>\n",
       "  </tbody>\n",
       "</table>\n",
       "</div>"
      ],
      "text/plain": [
       "        t_dat                                        customer_id  article_id  \\\n",
       "0  2018-09-20  000058a12d5b43e67d225668fa1f8d618c13dc232df0ca...   663713001   \n",
       "1  2018-09-20  000058a12d5b43e67d225668fa1f8d618c13dc232df0ca...   541518023   \n",
       "2  2018-09-20  00007d2de826758b65a93dd24ce629ed66842531df6699...   505221004   \n",
       "3  2018-09-20  00007d2de826758b65a93dd24ce629ed66842531df6699...   685687003   \n",
       "4  2018-09-20  00007d2de826758b65a93dd24ce629ed66842531df6699...   685687004   \n",
       "\n",
       "      price  sales_channel_id  \n",
       "0  0.050831                 2  \n",
       "1  0.030492                 2  \n",
       "2  0.015237                 2  \n",
       "3  0.016932                 2  \n",
       "4  0.016932                 2  "
      ]
     },
     "execution_count": 20,
     "metadata": {},
     "output_type": "execute_result"
    }
   ],
   "source": [
    "transaction_train.head()"
   ]
  },
  {
   "cell_type": "markdown",
   "id": "a24f834b",
   "metadata": {},
   "source": [
    "The main application of this dataset is to combine the articles and customer by their ID numbers. We can also use the prices to check with the articles whether price makes a difference in the choosing of items, and thus, what would be better to recommend according to the customers profile and preferences."
   ]
  },
  {
   "cell_type": "markdown",
   "id": "5d75a221",
   "metadata": {},
   "source": [
    "#### Feature Selection\n",
    "\n",
    "We don't really mind the transaction date (t_dat) in order to recommend the products unless is an article in high demmand in the present but that's not very probable. \n",
    "\n",
    "In summary we are only keeping the customer_id and the article_id to set a link between the three datasets."
   ]
  },
  {
   "cell_type": "code",
   "execution_count": 21,
   "id": "0cebc66b",
   "metadata": {},
   "outputs": [
    {
     "data": {
      "text/html": [
       "<div>\n",
       "<style scoped>\n",
       "    .dataframe tbody tr th:only-of-type {\n",
       "        vertical-align: middle;\n",
       "    }\n",
       "\n",
       "    .dataframe tbody tr th {\n",
       "        vertical-align: top;\n",
       "    }\n",
       "\n",
       "    .dataframe thead th {\n",
       "        text-align: right;\n",
       "    }\n",
       "</style>\n",
       "<table border=\"1\" class=\"dataframe\">\n",
       "  <thead>\n",
       "    <tr style=\"text-align: right;\">\n",
       "      <th></th>\n",
       "      <th>customer_id</th>\n",
       "      <th>article_id</th>\n",
       "    </tr>\n",
       "  </thead>\n",
       "  <tbody>\n",
       "    <tr>\n",
       "      <th>0</th>\n",
       "      <td>000058a12d5b43e67d225668fa1f8d618c13dc232df0ca...</td>\n",
       "      <td>663713001</td>\n",
       "    </tr>\n",
       "    <tr>\n",
       "      <th>1</th>\n",
       "      <td>000058a12d5b43e67d225668fa1f8d618c13dc232df0ca...</td>\n",
       "      <td>541518023</td>\n",
       "    </tr>\n",
       "    <tr>\n",
       "      <th>2</th>\n",
       "      <td>00007d2de826758b65a93dd24ce629ed66842531df6699...</td>\n",
       "      <td>505221004</td>\n",
       "    </tr>\n",
       "    <tr>\n",
       "      <th>3</th>\n",
       "      <td>00007d2de826758b65a93dd24ce629ed66842531df6699...</td>\n",
       "      <td>685687003</td>\n",
       "    </tr>\n",
       "    <tr>\n",
       "      <th>4</th>\n",
       "      <td>00007d2de826758b65a93dd24ce629ed66842531df6699...</td>\n",
       "      <td>685687004</td>\n",
       "    </tr>\n",
       "  </tbody>\n",
       "</table>\n",
       "</div>"
      ],
      "text/plain": [
       "                                         customer_id  article_id\n",
       "0  000058a12d5b43e67d225668fa1f8d618c13dc232df0ca...   663713001\n",
       "1  000058a12d5b43e67d225668fa1f8d618c13dc232df0ca...   541518023\n",
       "2  00007d2de826758b65a93dd24ce629ed66842531df6699...   505221004\n",
       "3  00007d2de826758b65a93dd24ce629ed66842531df6699...   685687003\n",
       "4  00007d2de826758b65a93dd24ce629ed66842531df6699...   685687004"
      ]
     },
     "execution_count": 21,
     "metadata": {},
     "output_type": "execute_result"
    }
   ],
   "source": [
    "cleaned_transaction_train = transaction_train[['customer_id','article_id']]\n",
    "cleaned_transaction_train.head()"
   ]
  },
  {
   "cell_type": "markdown",
   "id": "54cf2aad",
   "metadata": {},
   "source": [
    "#### Missing Data"
   ]
  },
  {
   "cell_type": "code",
   "execution_count": 22,
   "id": "f792b0f2",
   "metadata": {},
   "outputs": [
    {
     "data": {
      "text/plain": [
       "customer_id    0\n",
       "article_id     0\n",
       "dtype: int64"
      ]
     },
     "execution_count": 22,
     "metadata": {},
     "output_type": "execute_result"
    }
   ],
   "source": [
    "cleaned_transaction_train.isnull().sum()"
   ]
  },
  {
   "cell_type": "markdown",
   "id": "3a77d54a",
   "metadata": {},
   "source": [
    "There are no missing values in this dataset after the feature selection. So we don't need to process the data to fill them up."
   ]
  },
  {
   "cell_type": "markdown",
   "id": "68962e9c",
   "metadata": {},
   "source": [
    "#### Categorical Data"
   ]
  },
  {
   "cell_type": "markdown",
   "id": "86bb7383",
   "metadata": {},
   "source": [
    "There is no categorical data to analize."
   ]
  },
  {
   "cell_type": "markdown",
   "id": "23a67abc",
   "metadata": {},
   "source": [
    "### Data Merge"
   ]
  },
  {
   "cell_type": "markdown",
   "id": "5e86c846",
   "metadata": {},
   "source": [
    "Up until this point, we have been processing three different datasets, however we need a unique dataset to have the model run over it and get our recommendeded products.\n",
    "\n",
    "As we mentioned before, the transaction_train dataset related information between the other two datasets so we can use it to merge the data.\n",
    "\n",
    "For easier understanding and readability we will rename the column names to specify if the data refers to the transaction, the customer or the article."
   ]
  },
  {
   "cell_type": "markdown",
   "id": "4a965dac",
   "metadata": {},
   "source": [
    "Now we can start merging the articles with the transaction by using the article_id feature."
   ]
  },
  {
   "cell_type": "code",
   "execution_count": 23,
   "id": "e440873f",
   "metadata": {},
   "outputs": [
    {
     "data": {
      "text/html": [
       "<div>\n",
       "<style scoped>\n",
       "    .dataframe tbody tr th:only-of-type {\n",
       "        vertical-align: middle;\n",
       "    }\n",
       "\n",
       "    .dataframe tbody tr th {\n",
       "        vertical-align: top;\n",
       "    }\n",
       "\n",
       "    .dataframe thead th {\n",
       "        text-align: right;\n",
       "    }\n",
       "</style>\n",
       "<table border=\"1\" class=\"dataframe\">\n",
       "  <thead>\n",
       "    <tr style=\"text-align: right;\">\n",
       "      <th></th>\n",
       "      <th>customer_id</th>\n",
       "      <th>article_id</th>\n",
       "      <th>c_age</th>\n",
       "    </tr>\n",
       "  </thead>\n",
       "  <tbody>\n",
       "    <tr>\n",
       "      <th>0</th>\n",
       "      <td>000058a12d5b43e67d225668fa1f8d618c13dc232df0ca...</td>\n",
       "      <td>663713001.0</td>\n",
       "      <td>24.0</td>\n",
       "    </tr>\n",
       "    <tr>\n",
       "      <th>1</th>\n",
       "      <td>000058a12d5b43e67d225668fa1f8d618c13dc232df0ca...</td>\n",
       "      <td>541518023.0</td>\n",
       "      <td>24.0</td>\n",
       "    </tr>\n",
       "    <tr>\n",
       "      <th>2</th>\n",
       "      <td>000058a12d5b43e67d225668fa1f8d618c13dc232df0ca...</td>\n",
       "      <td>663713001.0</td>\n",
       "      <td>24.0</td>\n",
       "    </tr>\n",
       "    <tr>\n",
       "      <th>3</th>\n",
       "      <td>000058a12d5b43e67d225668fa1f8d618c13dc232df0ca...</td>\n",
       "      <td>578020002.0</td>\n",
       "      <td>24.0</td>\n",
       "    </tr>\n",
       "    <tr>\n",
       "      <th>4</th>\n",
       "      <td>000058a12d5b43e67d225668fa1f8d618c13dc232df0ca...</td>\n",
       "      <td>723529001.0</td>\n",
       "      <td>24.0</td>\n",
       "    </tr>\n",
       "  </tbody>\n",
       "</table>\n",
       "</div>"
      ],
      "text/plain": [
       "                                         customer_id   article_id  c_age\n",
       "0  000058a12d5b43e67d225668fa1f8d618c13dc232df0ca...  663713001.0   24.0\n",
       "1  000058a12d5b43e67d225668fa1f8d618c13dc232df0ca...  541518023.0   24.0\n",
       "2  000058a12d5b43e67d225668fa1f8d618c13dc232df0ca...  663713001.0   24.0\n",
       "3  000058a12d5b43e67d225668fa1f8d618c13dc232df0ca...  578020002.0   24.0\n",
       "4  000058a12d5b43e67d225668fa1f8d618c13dc232df0ca...  723529001.0   24.0"
      ]
     },
     "execution_count": 23,
     "metadata": {},
     "output_type": "execute_result"
    }
   ],
   "source": [
    "customers_n_transactions = pd.merge(cleaned_transaction_train, cleaned_customers, on='customer_id', how='outer')\n",
    "customers_n_transactions = customers_n_transactions.rename(columns={'age': 'c_age'})\n",
    "customers_n_transactions.head()"
   ]
  },
  {
   "cell_type": "markdown",
   "id": "45a8082c",
   "metadata": {},
   "source": [
    "It is possible for some of the data to be missing after the merge if there are no direct relations. So let's first check if we have any missing data."
   ]
  },
  {
   "cell_type": "code",
   "execution_count": 33,
   "id": "640265f5",
   "metadata": {},
   "outputs": [
    {
     "data": {
      "text/plain": [
       "customer_id       0\n",
       "article_id     9699\n",
       "c_age             0\n",
       "dtype: int64"
      ]
     },
     "execution_count": 33,
     "metadata": {},
     "output_type": "execute_result"
    }
   ],
   "source": [
    "customers_n_transactions.isnull().sum()"
   ]
  },
  {
   "cell_type": "markdown",
   "id": "fbedb613",
   "metadata": {},
   "source": [
    "As we can see, there are some missing entries in the articles. If this entries are a small amount compared to the number of data, we might be able to drop those entries completely."
   ]
  },
  {
   "cell_type": "code",
   "execution_count": 36,
   "id": "d620f192",
   "metadata": {},
   "outputs": [
    {
     "data": {
      "text/plain": [
       "0.030501896297137718"
      ]
     },
     "execution_count": 36,
     "metadata": {},
     "output_type": "execute_result"
    }
   ],
   "source": [
    "( customers_n_transactions['article_id'].isnull().sum() * 100 ) / customers_n_transactions.shape[0]"
   ]
  },
  {
   "cell_type": "markdown",
   "id": "6bb745c3",
   "metadata": {},
   "source": [
    "Since is such a small percentage (0.03%) we can drop the entries with missing data."
   ]
  },
  {
   "cell_type": "code",
   "execution_count": 41,
   "id": "9a5dcceb",
   "metadata": {},
   "outputs": [
    {
     "data": {
      "text/plain": [
       "customer_id    0\n",
       "article_id     0\n",
       "c_age          0\n",
       "dtype: int64"
      ]
     },
     "execution_count": 41,
     "metadata": {},
     "output_type": "execute_result"
    }
   ],
   "source": [
    "customers_n_transactions = customers_n_transactions.dropna(subset=['article_id'])\n",
    "customers_n_transactions.isnull().sum()"
   ]
  },
  {
   "cell_type": "markdown",
   "id": "9a6a13e1",
   "metadata": {},
   "source": [
    "Now we can merge the articles to the resulting dataset."
   ]
  },
  {
   "cell_type": "code",
   "execution_count": 42,
   "id": "5a372aa2",
   "metadata": {},
   "outputs": [
    {
     "data": {
      "text/html": [
       "<div>\n",
       "<style scoped>\n",
       "    .dataframe tbody tr th:only-of-type {\n",
       "        vertical-align: middle;\n",
       "    }\n",
       "\n",
       "    .dataframe tbody tr th {\n",
       "        vertical-align: top;\n",
       "    }\n",
       "\n",
       "    .dataframe thead th {\n",
       "        text-align: right;\n",
       "    }\n",
       "</style>\n",
       "<table border=\"1\" class=\"dataframe\">\n",
       "  <thead>\n",
       "    <tr style=\"text-align: right;\">\n",
       "      <th></th>\n",
       "      <th>customer_id</th>\n",
       "      <th>article_id</th>\n",
       "      <th>c_age</th>\n",
       "      <th>a_product_code</th>\n",
       "      <th>a_colour_group_code</th>\n",
       "      <th>a_department_no</th>\n",
       "      <th>a_index_group_no</th>\n",
       "      <th>a_section_no</th>\n",
       "    </tr>\n",
       "  </thead>\n",
       "  <tbody>\n",
       "    <tr>\n",
       "      <th>0</th>\n",
       "      <td>000058a12d5b43e67d225668fa1f8d618c13dc232df0ca...</td>\n",
       "      <td>663713001.0</td>\n",
       "      <td>24.0</td>\n",
       "      <td>663713</td>\n",
       "      <td>9</td>\n",
       "      <td>1338</td>\n",
       "      <td>1</td>\n",
       "      <td>61</td>\n",
       "    </tr>\n",
       "    <tr>\n",
       "      <th>1</th>\n",
       "      <td>000058a12d5b43e67d225668fa1f8d618c13dc232df0ca...</td>\n",
       "      <td>663713001.0</td>\n",
       "      <td>24.0</td>\n",
       "      <td>663713</td>\n",
       "      <td>9</td>\n",
       "      <td>1338</td>\n",
       "      <td>1</td>\n",
       "      <td>61</td>\n",
       "    </tr>\n",
       "    <tr>\n",
       "      <th>2</th>\n",
       "      <td>1385e5f3a2d3dbd21237f91faf81254a6d96de31b07b0b...</td>\n",
       "      <td>663713001.0</td>\n",
       "      <td>25.0</td>\n",
       "      <td>663713</td>\n",
       "      <td>9</td>\n",
       "      <td>1338</td>\n",
       "      <td>1</td>\n",
       "      <td>61</td>\n",
       "    </tr>\n",
       "    <tr>\n",
       "      <th>3</th>\n",
       "      <td>1385e5f3a2d3dbd21237f91faf81254a6d96de31b07b0b...</td>\n",
       "      <td>663713001.0</td>\n",
       "      <td>25.0</td>\n",
       "      <td>663713</td>\n",
       "      <td>9</td>\n",
       "      <td>1338</td>\n",
       "      <td>1</td>\n",
       "      <td>61</td>\n",
       "    </tr>\n",
       "    <tr>\n",
       "      <th>4</th>\n",
       "      <td>3681748607f3287d2c3a65e00bb5fb153de30e9becf158...</td>\n",
       "      <td>663713001.0</td>\n",
       "      <td>30.0</td>\n",
       "      <td>663713</td>\n",
       "      <td>9</td>\n",
       "      <td>1338</td>\n",
       "      <td>1</td>\n",
       "      <td>61</td>\n",
       "    </tr>\n",
       "  </tbody>\n",
       "</table>\n",
       "</div>"
      ],
      "text/plain": [
       "                                         customer_id   article_id  c_age  \\\n",
       "0  000058a12d5b43e67d225668fa1f8d618c13dc232df0ca...  663713001.0   24.0   \n",
       "1  000058a12d5b43e67d225668fa1f8d618c13dc232df0ca...  663713001.0   24.0   \n",
       "2  1385e5f3a2d3dbd21237f91faf81254a6d96de31b07b0b...  663713001.0   25.0   \n",
       "3  1385e5f3a2d3dbd21237f91faf81254a6d96de31b07b0b...  663713001.0   25.0   \n",
       "4  3681748607f3287d2c3a65e00bb5fb153de30e9becf158...  663713001.0   30.0   \n",
       "\n",
       "   a_product_code  a_colour_group_code  a_department_no  a_index_group_no  \\\n",
       "0          663713                    9             1338                 1   \n",
       "1          663713                    9             1338                 1   \n",
       "2          663713                    9             1338                 1   \n",
       "3          663713                    9             1338                 1   \n",
       "4          663713                    9             1338                 1   \n",
       "\n",
       "   a_section_no  \n",
       "0            61  \n",
       "1            61  \n",
       "2            61  \n",
       "3            61  \n",
       "4            61  "
      ]
     },
     "execution_count": 42,
     "metadata": {},
     "output_type": "execute_result"
    }
   ],
   "source": [
    "complete_dataset = pd.merge(customers_n_transactions, cleaned_articles, on='article_id', how='outer')\n",
    "complete_dataset = complete_dataset.rename(columns={'product_code': 'a_product_code', \n",
    "                                 'colour_group_code': 'a_colour_group_code', \n",
    "                                 'department_no': 'a_department_no', \n",
    "                                 'index_group_no': 'a_index_group_no',\n",
    "                                 'section_no': 'a_section_no'})\n",
    "complete_dataset.head()"
   ]
  },
  {
   "cell_type": "markdown",
   "id": "e18b6752",
   "metadata": {},
   "source": [
    "We now need to check again for missing values."
   ]
  },
  {
   "cell_type": "code",
   "execution_count": 43,
   "id": "f9f7627e",
   "metadata": {},
   "outputs": [
    {
     "data": {
      "text/plain": [
       "customer_id            995\n",
       "article_id               0\n",
       "c_age                  995\n",
       "a_product_code           0\n",
       "a_colour_group_code      0\n",
       "a_department_no          0\n",
       "a_index_group_no         0\n",
       "a_section_no             0\n",
       "dtype: int64"
      ]
     },
     "execution_count": 43,
     "metadata": {},
     "output_type": "execute_result"
    }
   ],
   "source": [
    "complete_dataset.isnull().sum()"
   ]
  },
  {
   "cell_type": "markdown",
   "id": "e31494b8",
   "metadata": {},
   "source": [
    "Since there are some missing values for both customer_id and c_age, which proceed from the same dataset, it is likely that the data missinig is in the same 995 entries. And as 995 is also a low percentage of the set (9699 was only 0.03%) we can drop the entries with missing data."
   ]
  },
  {
   "cell_type": "code",
   "execution_count": 45,
   "id": "b7cb88c5",
   "metadata": {},
   "outputs": [
    {
     "data": {
      "text/plain": [
       "customer_id            0\n",
       "article_id             0\n",
       "c_age                  0\n",
       "a_product_code         0\n",
       "a_colour_group_code    0\n",
       "a_department_no        0\n",
       "a_index_group_no       0\n",
       "a_section_no           0\n",
       "dtype: int64"
      ]
     },
     "execution_count": 45,
     "metadata": {},
     "output_type": "execute_result"
    }
   ],
   "source": [
    "complete_dataset = complete_dataset.dropna(subset=['customer_id', 'c_age'])\n",
    "complete_dataset.isnull().sum()"
   ]
  },
  {
   "cell_type": "markdown",
   "id": "50544a80",
   "metadata": {},
   "source": [
    "## Tests"
   ]
  },
  {
   "cell_type": "code",
   "execution_count": 63,
   "id": "24da6b5c",
   "metadata": {},
   "outputs": [],
   "source": [
    "from sklearn.model_selection import train_test_split\n",
    "from sklearn.neighbors import KNeighborsClassifier\n",
    "\n",
    "X = complete_dataset.drop(['customer_id'], axis=1)\n",
    "y = complete_dataset.article_id\n",
    "\n",
    "X_train, X_test, y_train, y_test = train_test_split(X, y, test_size=0.33)"
   ]
  },
  {
   "cell_type": "code",
   "execution_count": 64,
   "id": "1d56332f",
   "metadata": {},
   "outputs": [
    {
     "data": {
      "text/plain": [
       "KNeighborsClassifier(n_neighbors=3)"
      ]
     },
     "execution_count": 64,
     "metadata": {},
     "output_type": "execute_result"
    }
   ],
   "source": [
    "knn_model = KNeighborsClassifier(n_neighbors=3)\n",
    "knn_model.fit(X_train, y_train)"
   ]
  },
  {
   "cell_type": "code",
   "execution_count": 66,
   "id": "5e00d81d",
   "metadata": {},
   "outputs": [
    {
     "name": "stdout",
     "output_type": "stream",
     "text": [
      "[5.99718002e+08 6.89009001e+08 8.26492003e+08 ... 7.46509005e+08\n",
      " 8.60949001e+08 4.96111020e+08]\n"
     ]
    }
   ],
   "source": [
    "print(knn_model.predict(X_test))"
   ]
  },
  {
   "cell_type": "code",
   "execution_count": null,
   "id": "b729770a",
   "metadata": {},
   "outputs": [],
   "source": []
  }
 ],
 "metadata": {
  "kernelspec": {
   "display_name": "Python 3 (ipykernel)",
   "language": "python",
   "name": "python3"
  },
  "language_info": {
   "codemirror_mode": {
    "name": "ipython",
    "version": 3
   },
   "file_extension": ".py",
   "mimetype": "text/x-python",
   "name": "python",
   "nbconvert_exporter": "python",
   "pygments_lexer": "ipython3",
   "version": "3.9.10"
  }
 },
 "nbformat": 4,
 "nbformat_minor": 5
}
