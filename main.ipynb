{
 "cells": [
  {
   "cell_type": "markdown",
   "id": "50b2d075",
   "metadata": {},
   "source": [
    "# H&M Personalized Fashion Recommendations"
   ]
  },
  {
   "cell_type": "markdown",
   "id": "657b3d4d",
   "metadata": {},
   "source": [
    "## Data Preprocessing"
   ]
  },
  {
   "cell_type": "markdown",
   "id": "9f513a8c",
   "metadata": {},
   "source": [
    "Required external libraries:"
   ]
  },
  {
   "cell_type": "code",
   "execution_count": 1,
   "id": "c36a5420",
   "metadata": {},
   "outputs": [],
   "source": [
    "import pandas as pd"
   ]
  },
  {
   "cell_type": "markdown",
   "id": "27471883",
   "metadata": {},
   "source": [
    "Read data:"
   ]
  },
  {
   "cell_type": "code",
   "execution_count": 12,
   "id": "d564a28f",
   "metadata": {},
   "outputs": [],
   "source": [
    "articles_data = pd.read_csv('articles.csv')\n",
    "customers_data = pd.read_csv('customers.csv')"
   ]
  },
  {
   "cell_type": "markdown",
   "id": "3aa2f3e1",
   "metadata": {},
   "source": [
    "## Features Selection"
   ]
  },
  {
   "cell_type": "markdown",
   "id": "20d4c132",
   "metadata": {},
   "source": []
  },
  {
   "cell_type": "code",
   "execution_count": null,
   "id": "f54abb9c",
   "metadata": {},
   "outputs": [],
   "source": []
  }
 ],
 "metadata": {
  "kernelspec": {
   "display_name": "Python 3",
   "language": "python",
   "name": "python3"
  },
  "language_info": {
   "codemirror_mode": {
    "name": "ipython",
    "version": 3
   },
   "file_extension": ".py",
   "mimetype": "text/x-python",
   "name": "python",
   "nbconvert_exporter": "python",
   "pygments_lexer": "ipython3",
   "version": "3.8.8"
  }
 },
 "nbformat": 4,
 "nbformat_minor": 5
}
